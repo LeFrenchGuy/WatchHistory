{
 "cells": [
  {
   "cell_type": "markdown",
   "id": "d146fd45-9f3d-47f6-b580-02b01c136f8c",
   "metadata": {},
   "source": [
    " Imports and Setup"
   ]
  },
  {
   "cell_type": "code",
   "execution_count": 6,
   "id": "25a77449-0e6e-461a-8bef-18421b310e79",
   "metadata": {},
   "outputs": [],
   "source": [
    "from datetime import datetime\n",
    "import pandas as pd\n",
    "import json\n",
    "import os\n",
    "import requests\n",
    "\n",
    "# API key setup\n",
    "from constants import TMDB_API_KEY\n"
   ]
  },
  {
   "cell_type": "code",
   "execution_count": 7,
   "id": "0d760714-61b7-4704-aa19-ed4ac8c41e7c",
   "metadata": {},
   "outputs": [],
   "source": [
    "class MovieEntry:\n",
    "    def __init__(self, title, date, is_cinema):\n",
    "        self.title = title\n",
    "        self.date = date\n",
    "        self.is_cinema = is_cinema\n",
    "\n",
    "    def __repr__(self):\n",
    "        return f\"MovieEntry(title={self.title}, date={self.date}, is_cinema={self.is_cinema})\"\n"
   ]
  },
  {
   "cell_type": "code",
   "execution_count": 8,
   "id": "b16565ed-3436-4a3a-a7b7-2678d02776ca",
   "metadata": {},
   "outputs": [],
   "source": [
    "def fetch_movie_details(title):\n",
    "    cache_file = \"movie_cache.json\"\n",
    "    if os.path.exists(cache_file):\n",
    "        with open(cache_file, 'r') as f:\n",
    "            cache = json.load(f)\n",
    "    else:\n",
    "        cache = {}\n",
    "\n",
    "    if title in cache:\n",
    "        return cache[title]\n",
    "\n",
    "    url = f\"https://api.themoviedb.org/3/search/movie?query={title}&api_key={TMDB_API_KEY}\"\n",
    "    response = requests.get(url)\n",
    "    if response.status_code == 200:\n",
    "        data = response.json()\n",
    "        if data[\"results\"]:\n",
    "            details = data[\"results\"][0]\n",
    "            cache[title] = details\n",
    "            with open(cache_file, 'w') as f:\n",
    "                json.dump(cache, f)\n",
    "            return details\n",
    "    return None\n"
   ]
  },
  {
   "cell_type": "code",
   "execution_count": 9,
   "id": "b38e4f25-2dd6-4027-bede-85f1ead277f0",
   "metadata": {},
   "outputs": [],
   "source": [
    "def enrich_data_with_tmdb(df):\n",
    "    details = []\n",
    "    for title in df[\"Title\"]:\n",
    "        detail = fetch_movie_details(title)\n",
    "        details.append(detail)\n",
    "\n",
    "    df[\"Details\"] = details\n",
    "    return df"
   ]
  },
  {
   "cell_type": "code",
   "execution_count": 10,
   "id": "69ed527e-db26-4355-8da5-8e91c74a8158",
   "metadata": {},
   "outputs": [],
   "source": [
    "filename = \"entertainment.txt\"\n",
    "entries = []\n",
    "\n",
    "with open(filename, 'r') as file:\n",
    "    for line in file:\n",
    "        line = line.strip()\n",
    "        if '(' in line and ')' in line:\n",
    "            title, rest = line.split(\" (\", 1)\n",
    "            date = rest.split(\")\")[0].strip()\n",
    "            is_cinema = \"cinema\" in rest.lower()\n",
    "        else:\n",
    "            title = line\n",
    "            date = \"\"\n",
    "            is_cinema = False\n",
    "\n",
    "        title = title.title().strip()\n",
    "        movie_entry = MovieEntry(title, date, is_cinema)\n",
    "        entries.append(movie_entry)\n"
   ]
  },
  {
   "cell_type": "code",
   "execution_count": 11,
   "id": "575311a9-3e23-4486-ad7c-3a8eb6066424",
   "metadata": {},
   "outputs": [],
   "source": [
    "df = pd.DataFrame(\n",
    "    [(e.title, e.date, e.is_cinema) for e in entries],\n",
    "    columns=[\"Title\", \"Date_Watched\", \"Is_Cinema\"]\n",
    ")"
   ]
  },
  {
   "cell_type": "code",
   "execution_count": 12,
   "id": "95dd11d1-1c5f-45d4-9b43-1aed6fea7906",
   "metadata": {},
   "outputs": [],
   "source": [
    "df = enrich_data_with_tmdb(df)"
   ]
  },
  {
   "cell_type": "code",
   "execution_count": 13,
   "id": "5c0dfffb-229c-4045-af2d-bd2bcdad3a0b",
   "metadata": {},
   "outputs": [],
   "source": [
    "df.to_csv(\"enriched_data.csv\", index=False)\n"
   ]
  }
 ],
 "metadata": {
  "kernelspec": {
   "display_name": "Python 3 (ipykernel)",
   "language": "python",
   "name": "python3"
  },
  "language_info": {
   "codemirror_mode": {
    "name": "ipython",
    "version": 3
   },
   "file_extension": ".py",
   "mimetype": "text/x-python",
   "name": "python",
   "nbconvert_exporter": "python",
   "pygments_lexer": "ipython3",
   "version": "3.10.2"
  }
 },
 "nbformat": 4,
 "nbformat_minor": 5
}
